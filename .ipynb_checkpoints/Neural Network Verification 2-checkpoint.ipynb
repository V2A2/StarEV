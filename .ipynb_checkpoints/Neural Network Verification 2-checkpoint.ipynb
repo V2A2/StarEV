{
 "cells": [
  {
   "cell_type": "code",
   "execution_count": 1,
   "id": "69fe4209",
   "metadata": {},
   "outputs": [],
   "source": [
    "import onnx\n",
    "import torch\n",
    "import numpy as np\n",
    "from matplotlib import pyplot as plt\n",
    "from StarV.util.plot import plot_star2D\n",
    "from StarV.verifier.certifier import certifyRobustness\n",
    "from StarV.util.load import load_neural_network_file"
   ]
  },
  {
   "cell_type": "markdown",
   "id": "6d3ebf19",
   "metadata": {},
   "source": [
    "# Load Neural Network and Data"
   ]
  },
  {
   "cell_type": "markdown",
   "id": "1561231c",
   "metadata": {},
   "source": [
    "## Load PyTorch network"
   ]
  },
  {
   "cell_type": "code",
   "execution_count": 2,
   "id": "fa030e8a",
   "metadata": {},
   "outputs": [
    {
     "name": "stdout",
     "output_type": "stream",
     "text": [
      "loading pytorch module\n",
      "Network Information:\n",
      "Network type: None\n",
      "Input Dimension: 2\n",
      "Output Dimension: 2\n",
      "Number of Layers: 5\n",
      "Layer types:\n",
      "Layer 0: <class 'StarV.layer.FullyConnectedLayer.FullyConnectedLayer'> (2, 2)\n",
      "Layer 1: <class 'StarV.layer.ReLULayer.ReLULayer'>\n",
      "Layer 2: <class 'StarV.layer.FullyConnectedLayer.FullyConnectedLayer'> (2, 2)\n",
      "Layer 3: <class 'StarV.layer.ReLULayer.ReLULayer'>\n",
      "Layer 4: <class 'StarV.layer.FullyConnectedLayer.FullyConnectedLayer'> (2, 2)\n",
      "None\n"
     ]
    }
   ],
   "source": [
    "class ReLUFFNNModel(torch.nn.Module):\n",
    "    def __init__(self, input_dim, hidden_dim, out_dim):\n",
    "        super(ReLUFFNNModel, self).__init__()\n",
    "        self.fc1 = torch.nn.Linear(input_dim, hidden_dim)\n",
    "        self.relu1 = torch.nn.ReLU()\n",
    "        self.fc2 = torch.nn.Linear(hidden_dim, hidden_dim)\n",
    "        self.relu2 = torch.nn.ReLU()\n",
    "        self.fc3 = torch.nn.Linear(hidden_dim, out_dim)\n",
    "\n",
    "    def forward(self, x):\n",
    "        out = self.fc1(x)\n",
    "        out = self.relu1(out)\n",
    "        out = self.fc2(out)\n",
    "        out = self.relu2(out)\n",
    "        out = self.fc3(out)\n",
    "        return out\n",
    "    \n",
    "model = load_neural_network_file('simple_example1.pt', True)\n",
    "print(model.info())"
   ]
  },
  {
   "cell_type": "markdown",
   "id": "8d1d38d7",
   "metadata": {},
   "source": [
    "## Load ONNX network"
   ]
  },
  {
   "cell_type": "code",
   "execution_count": 3,
   "id": "f2d259df",
   "metadata": {},
   "outputs": [
    {
     "name": "stdout",
     "output_type": "stream",
     "text": [
      "loading onnx module\n",
      "Network Information:\n",
      "Network type: None\n",
      "Input Dimension: 2\n",
      "Output Dimension: 2\n",
      "Number of Layers: 5\n",
      "Layer types:\n",
      "Layer 0: <class 'StarV.layer.FullyConnectedLayer.FullyConnectedLayer'> (2, 2)\n",
      "Layer 1: <class 'StarV.layer.ReLULayer.ReLULayer'>\n",
      "Layer 2: <class 'StarV.layer.FullyConnectedLayer.FullyConnectedLayer'> (2, 2)\n",
      "Layer 3: <class 'StarV.layer.ReLULayer.ReLULayer'>\n",
      "Layer 4: <class 'StarV.layer.FullyConnectedLayer.FullyConnectedLayer'> (2, 2)\n",
      "None\n"
     ]
    },
    {
     "name": "stderr",
     "output_type": "stream",
     "text": [
      "/home/schoi/.local/lib/python3.10/site-packages/onnx2pytorch/convert/operations.py:154: UserWarning: The given NumPy array is not writable, and PyTorch does not support non-writable tensors. This means writing to this tensor will result in undefined behavior. You may want to copy the array to protect its data or make it writable before converting it to a tensor. This type of warning will be suppressed for the rest of this program. (Triggered internally at ../torch/csrc/utils/tensor_numpy.cpp:199.)\n",
      "  weight = torch.from_numpy(numpy_helper.to_array(params[0]))\n"
     ]
    }
   ],
   "source": [
    "model = load_neural_network_file('simple_example1.onnx', True)\n",
    "print(model.info())"
   ]
  },
  {
   "cell_type": "markdown",
   "id": "a66289ed",
   "metadata": {},
   "source": [
    "## Load Input"
   ]
  },
  {
   "cell_type": "code",
   "execution_count": 4,
   "id": "ffd3dc3f",
   "metadata": {},
   "outputs": [
    {
     "name": "stdout",
     "output_type": "stream",
     "text": [
      "input: [-1.30707  1.77581]\n",
      "label: 2\n"
     ]
    }
   ],
   "source": [
    "\"\"\"\n",
    "    Load Input dataset\n",
    "\"\"\"\n",
    "with open('simple_example1_input.npy', 'rb') as f:\n",
    "    input = np.load(f)\n",
    "print('input: {}'.format(input))\n",
    "\n",
    "label = model.evaluate(input).argmax() + 1\n",
    "print('label: {}'.format(label))"
   ]
  },
  {
   "cell_type": "markdown",
   "id": "c8719dea",
   "metadata": {},
   "source": [
    "# Verify Robustness of Neural Network"
   ]
  },
  {
   "cell_type": "code",
   "execution_count": 5,
   "id": "0786bb1c",
   "metadata": {},
   "outputs": [
    {
     "ename": "Exception",
     "evalue": "error: input is not a Star or ProbStar,             type of input is <class 'StarV.set.star.Star'>",
     "output_type": "error",
     "traceback": [
      "\u001b[0;31m---------------------------------------------------------------------------\u001b[0m",
      "\u001b[0;31mException\u001b[0m                                 Traceback (most recent call last)",
      "Cell \u001b[0;32mIn[5], line 15\u001b[0m\n\u001b[1;32m      5\u001b[0m epsilon \u001b[38;5;241m=\u001b[39m \u001b[38;5;241m0.01\u001b[39m\n\u001b[1;32m      7\u001b[0m \u001b[38;5;124;03m'''\u001b[39;00m\n\u001b[1;32m      8\u001b[0m \u001b[38;5;124;03mrobustness results:\u001b[39;00m\n\u001b[1;32m      9\u001b[0m \n\u001b[0;32m   (...)\u001b[0m\n\u001b[1;32m     12\u001b[0m \u001b[38;5;124;03m   = 2: robstness is uncertain / unknown\u001b[39;00m\n\u001b[1;32m     13\u001b[0m \u001b[38;5;124;03m'''\u001b[39;00m\n\u001b[0;32m---> 15\u001b[0m rb, vt, total_vt, outputSet \u001b[38;5;241m=\u001b[39m \u001b[43mcertifyRobustness\u001b[49m\u001b[43m(\u001b[49m\u001b[43mmodel\u001b[49m\u001b[43m,\u001b[49m\u001b[43m \u001b[49m\u001b[38;5;28;43minput\u001b[39;49m\u001b[43m,\u001b[49m\u001b[43m \u001b[49m\u001b[43mepsilon\u001b[49m\u001b[43m,\u001b[49m\u001b[43m \u001b[49m\u001b[43mveriMethod\u001b[49m\u001b[43m,\u001b[49m\u001b[43m \u001b[49m\u001b[43mreachMethod\u001b[49m\u001b[43m,\u001b[49m\u001b[43m \u001b[49m\u001b[43mlp_solver\u001b[49m\u001b[43m,\u001b[49m\u001b[43m \u001b[49m\u001b[43mdata_type\u001b[49m\u001b[38;5;241;43m=\u001b[39;49m\u001b[38;5;124;43m'\u001b[39;49m\u001b[38;5;124;43mdefault\u001b[39;49m\u001b[38;5;124;43m'\u001b[39;49m\u001b[43m,\u001b[49m\u001b[43m \u001b[49m\u001b[43mshow\u001b[49m\u001b[38;5;241;43m=\u001b[39;49m\u001b[38;5;28;43;01mFalse\u001b[39;49;00m\u001b[43m)\u001b[49m\n\u001b[1;32m     17\u001b[0m \u001b[38;5;124;03m'''\u001b[39;00m\n\u001b[1;32m     18\u001b[0m \u001b[38;5;124;03m    Print verification results and plot output reachable set\u001b[39;00m\n\u001b[1;32m     19\u001b[0m \u001b[38;5;124;03m'''\u001b[39;00m\n\u001b[1;32m     20\u001b[0m \u001b[38;5;28mprint\u001b[39m(\u001b[38;5;124m'\u001b[39m\u001b[38;5;124mrobust: \u001b[39m\u001b[38;5;124m'\u001b[39m, rb)\n",
      "File \u001b[0;32m~/Documents/starv_dev_sc/StarV/verifier/certifier.py:391\u001b[0m, in \u001b[0;36mcertifyRobustness\u001b[0;34m(net, input, epsilon, veriMethod, reachMethod, lp_solver, pool, RF, DR, data_type, show)\u001b[0m\n\u001b[1;32m    389\u001b[0m \u001b[38;5;66;03m# Compute output reachable sets\u001b[39;00m\n\u001b[1;32m    390\u001b[0m \u001b[38;5;28;01mif\u001b[39;00m veriMethod \u001b[38;5;241m==\u001b[39m \u001b[38;5;124m'\u001b[39m\u001b[38;5;124mBFS\u001b[39m\u001b[38;5;124m'\u001b[39m:\n\u001b[0;32m--> 391\u001b[0m     Y, _ \u001b[38;5;241m=\u001b[39m \u001b[43mreachBFS\u001b[49m\u001b[43m(\u001b[49m\u001b[43mnet\u001b[49m\u001b[38;5;241;43m=\u001b[39;49m\u001b[43mnet\u001b[49m\u001b[43m,\u001b[49m\u001b[43m \u001b[49m\u001b[43minputSet\u001b[49m\u001b[38;5;241;43m=\u001b[39;49m\u001b[43mX\u001b[49m\u001b[43m,\u001b[49m\u001b[43m \u001b[49m\u001b[43mreachMethod\u001b[49m\u001b[38;5;241;43m=\u001b[39;49m\u001b[43mreachMethod\u001b[49m\u001b[43m,\u001b[49m\u001b[43m \u001b[49m\u001b[43mlp_solver\u001b[49m\u001b[38;5;241;43m=\u001b[39;49m\u001b[43mlp_solver\u001b[49m\u001b[43m,\u001b[49m\u001b[43m \u001b[49m\u001b[43mpool\u001b[49m\u001b[38;5;241;43m=\u001b[39;49m\u001b[43mpool\u001b[49m\u001b[43m,\u001b[49m\u001b[43m \u001b[49m\u001b[43mRF\u001b[49m\u001b[38;5;241;43m=\u001b[39;49m\u001b[43mRF\u001b[49m\u001b[43m,\u001b[49m\u001b[43m \u001b[49m\u001b[43mDR\u001b[49m\u001b[38;5;241;43m=\u001b[39;49m\u001b[43mDR\u001b[49m\u001b[43m,\u001b[49m\u001b[43m \u001b[49m\u001b[43mshow\u001b[49m\u001b[38;5;241;43m=\u001b[39;49m\u001b[43mshow\u001b[49m\u001b[43m)\u001b[49m\n\u001b[1;32m    392\u001b[0m \u001b[38;5;28;01melse\u001b[39;00m:\n\u001b[1;32m    393\u001b[0m     \u001b[38;5;28;01mraise\u001b[39;00m \u001b[38;5;167;01mException\u001b[39;00m(\u001b[38;5;124m'\u001b[39m\u001b[38;5;124mother verification methods is not yet implemented, i.e. DFS\u001b[39m\u001b[38;5;124m'\u001b[39m)\n",
      "File \u001b[0;32m~/Documents/starv_dev_sc/StarV/verifier/certifier.py:46\u001b[0m, in \u001b[0;36mreachBFS\u001b[0;34m(net, inputSet, reachMethod, lp_solver, pool, RF, DR, show)\u001b[0m\n\u001b[1;32m     43\u001b[0m     \u001b[38;5;28mprint\u001b[39m(\u001b[38;5;124m'\u001b[39m\u001b[38;5;124mComputing layer \u001b[39m\u001b[38;5;132;01m{}\u001b[39;00m\u001b[38;5;124m reachable set...\u001b[39m\u001b[38;5;124m'\u001b[39m\u001b[38;5;241m.\u001b[39mformat(i))\n\u001b[1;32m     45\u001b[0m start \u001b[38;5;241m=\u001b[39m time\u001b[38;5;241m.\u001b[39mtime()\n\u001b[0;32m---> 46\u001b[0m In \u001b[38;5;241m=\u001b[39m \u001b[43mnet\u001b[49m\u001b[38;5;241;43m.\u001b[39;49m\u001b[43mlayers\u001b[49m\u001b[43m[\u001b[49m\u001b[43mi\u001b[49m\u001b[43m]\u001b[49m\u001b[38;5;241;43m.\u001b[39;49m\u001b[43mreach\u001b[49m\u001b[43m(\u001b[49m\u001b[43mIn\u001b[49m\u001b[43m,\u001b[49m\u001b[43m \u001b[49m\u001b[43mmethod\u001b[49m\u001b[38;5;241;43m=\u001b[39;49m\u001b[43mreachMethod\u001b[49m\u001b[43m,\u001b[49m\u001b[43m \u001b[49m\u001b[43mlp_solver\u001b[49m\u001b[38;5;241;43m=\u001b[39;49m\u001b[43mlp_solver\u001b[49m\u001b[43m,\u001b[49m\u001b[43m \u001b[49m\u001b[43mpool\u001b[49m\u001b[38;5;241;43m=\u001b[39;49m\u001b[43mpool\u001b[49m\u001b[43m,\u001b[49m\u001b[43m \u001b[49m\u001b[43mRF\u001b[49m\u001b[38;5;241;43m=\u001b[39;49m\u001b[43mRF\u001b[49m\u001b[43m,\u001b[49m\u001b[43m \u001b[49m\u001b[43mDR\u001b[49m\u001b[38;5;241;43m=\u001b[39;49m\u001b[43mDR\u001b[49m\u001b[43m,\u001b[49m\u001b[43m \u001b[49m\u001b[43mshow\u001b[49m\u001b[38;5;241;43m=\u001b[39;49m\u001b[43mshow\u001b[49m\u001b[43m)\u001b[49m\n\u001b[1;32m     47\u001b[0m vt \u001b[38;5;241m=\u001b[39m time\u001b[38;5;241m.\u001b[39mtime() \u001b[38;5;241m-\u001b[39m start\n\u001b[1;32m     49\u001b[0m \u001b[38;5;66;03m# reachSet.append(In)\u001b[39;00m\n",
      "File \u001b[0;32m~/Documents/starv_dev_sc/StarV/layer/ReLULayer.py:34\u001b[0m, in \u001b[0;36mReLULayer.reach\u001b[0;34m(In, method, lp_solver, pool, RF, DR, show)\u001b[0m\n\u001b[1;32m     21\u001b[0m \u001b[38;5;250m\u001b[39m\u001b[38;5;124;03m\"\"\"main reachability method\u001b[39;00m\n\u001b[1;32m     22\u001b[0m \u001b[38;5;124;03m   Args:\u001b[39;00m\n\u001b[1;32m     23\u001b[0m \u001b[38;5;124;03m       @I: a list of input set (Star or ProbStar)\u001b[39;00m\n\u001b[0;32m   (...)\u001b[0m\n\u001b[1;32m     30\u001b[0m \u001b[38;5;124;03m       @R: a list of reachable set\u001b[39;00m\n\u001b[1;32m     31\u001b[0m \u001b[38;5;124;03m\"\"\"\u001b[39;00m\n\u001b[1;32m     33\u001b[0m \u001b[38;5;28;01mif\u001b[39;00m method \u001b[38;5;241m==\u001b[39m \u001b[38;5;124m'\u001b[39m\u001b[38;5;124mexact\u001b[39m\u001b[38;5;124m'\u001b[39m:\n\u001b[0;32m---> 34\u001b[0m     \u001b[38;5;28;01mreturn\u001b[39;00m \u001b[43mPosLin\u001b[49m\u001b[38;5;241;43m.\u001b[39;49m\u001b[43mreachExactMultiInputs\u001b[49m\u001b[43m(\u001b[49m\u001b[43mIn\u001b[49m\u001b[43m,\u001b[49m\u001b[43m \u001b[49m\u001b[43mlp_solver\u001b[49m\u001b[43m,\u001b[49m\u001b[43m \u001b[49m\u001b[43mpool\u001b[49m\u001b[43m)\u001b[49m\n\u001b[1;32m     35\u001b[0m \u001b[38;5;66;03m# elif method == 'approx':\u001b[39;00m\n\u001b[1;32m     36\u001b[0m \u001b[38;5;66;03m#     return PosLin.reachApproxSingleInput(In=In, lp_solver=lp_solver, RF=RF, DR=DR, show=show)\u001b[39;00m\n\u001b[1;32m     37\u001b[0m \u001b[38;5;28;01melif\u001b[39;00m method \u001b[38;5;241m==\u001b[39m \u001b[38;5;124m'\u001b[39m\u001b[38;5;124mrelax\u001b[39m\u001b[38;5;124m'\u001b[39m:\n",
      "File \u001b[0;32m~/Documents/starv_dev_sc/StarV/fun/poslin.py:197\u001b[0m, in \u001b[0;36mPosLin.reachExactMultiInputs\u001b[0;34m(*args)\u001b[0m\n\u001b[1;32m    195\u001b[0m \u001b[38;5;28;01mif\u001b[39;00m pool \u001b[38;5;129;01mis\u001b[39;00m \u001b[38;5;28;01mNone\u001b[39;00m:\n\u001b[1;32m    196\u001b[0m     \u001b[38;5;28;01mfor\u001b[39;00m i \u001b[38;5;129;01min\u001b[39;00m \u001b[38;5;28mrange\u001b[39m(\u001b[38;5;241m0\u001b[39m, \u001b[38;5;28mlen\u001b[39m(In)):\n\u001b[0;32m--> 197\u001b[0m         S\u001b[38;5;241m.\u001b[39mextend(\u001b[43mPosLin\u001b[49m\u001b[38;5;241;43m.\u001b[39;49m\u001b[43mreachExactSingleInput\u001b[49m\u001b[43m(\u001b[49m\u001b[43mIn\u001b[49m\u001b[43m[\u001b[49m\u001b[43mi\u001b[49m\u001b[43m]\u001b[49m\u001b[43m,\u001b[49m\u001b[43m \u001b[49m\u001b[43mlp_solver\u001b[49m\u001b[43m)\u001b[49m)\n\u001b[1;32m    198\u001b[0m \u001b[38;5;28;01melif\u001b[39;00m \u001b[38;5;28misinstance\u001b[39m(pool, multiprocessing\u001b[38;5;241m.\u001b[39mpool\u001b[38;5;241m.\u001b[39mPool):\n\u001b[1;32m    199\u001b[0m     S1 \u001b[38;5;241m=\u001b[39m []\n",
      "File \u001b[0;32m~/Documents/starv_dev_sc/StarV/fun/poslin.py:152\u001b[0m, in \u001b[0;36mPosLin.reachExactSingleInput\u001b[0;34m(*args)\u001b[0m\n\u001b[1;32m    148\u001b[0m     \u001b[38;5;28;01mraise\u001b[39;00m \u001b[38;5;167;01mException\u001b[39;00m(\u001b[38;5;124m'\u001b[39m\u001b[38;5;124merror: Invalid \u001b[39m\u001b[38;5;130;01m\\\u001b[39;00m\n\u001b[1;32m    149\u001b[0m \u001b[38;5;124m    number of input arguments, should be 1 or 2\u001b[39m\u001b[38;5;124m'\u001b[39m)\n\u001b[1;32m    151\u001b[0m \u001b[38;5;28;01mif\u001b[39;00m \u001b[38;5;129;01mnot\u001b[39;00m \u001b[38;5;28misinstance\u001b[39m(In, ProbStar):\n\u001b[0;32m--> 152\u001b[0m     \u001b[38;5;28;01mraise\u001b[39;00m \u001b[38;5;167;01mException\u001b[39;00m(\u001b[38;5;124m'\u001b[39m\u001b[38;5;124merror: input is not a Star or ProbStar, \u001b[39m\u001b[38;5;130;01m\\\u001b[39;00m\n\u001b[1;32m    153\u001b[0m \u001b[38;5;124m    type of input is \u001b[39m\u001b[38;5;132;01m{}\u001b[39;00m\u001b[38;5;124m'\u001b[39m\u001b[38;5;241m.\u001b[39mformat(\u001b[38;5;28mtype\u001b[39m(In)))\n\u001b[1;32m    155\u001b[0m S \u001b[38;5;241m=\u001b[39m []\n\u001b[1;32m    156\u001b[0m S1 \u001b[38;5;241m=\u001b[39m [In]\n",
      "\u001b[0;31mException\u001b[0m: error: input is not a Star or ProbStar,             type of input is <class 'StarV.set.star.Star'>"
     ]
    }
   ],
   "source": [
    "veriMethod='BFS'\n",
    "reachMethod='exact'\n",
    "lp_solver='gurobi'\n",
    "show = True\n",
    "epsilon = 0.01\n",
    "\n",
    "'''\n",
    "robustness results:\n",
    "\n",
    "rb = 1: the network is robust\n",
    "   = 0: the network is not robust\n",
    "   = 2: robstness is uncertain / unknown\n",
    "'''\n",
    "\n",
    "rb, vt, total_vt, outputSet = certifyRobustness(model, input, epsilon, veriMethod, reachMethod, lp_solver, data_type='default', show=False)\n",
    "\n",
    "'''\n",
    "    Print verification results and plot output reachable set\n",
    "'''\n",
    "print('robust: ', rb)\n",
    "print('verification time: ', vt)\n",
    "print('total verificatiom time: ', total_vt)\n",
    "\n",
    "print('\\nNumber of output star sets: ', len(outputSet))\n",
    "for i in range(len(outputSet)):\n",
    "    ax = plot_star2D(outputSet[i], show=False)\n",
    "    ax.set_ylabel('$x_2$', fontsize=13)\n",
    "    ax.set_xlabel('$x_1$', fontsize=13)"
   ]
  }
 ],
 "metadata": {
  "kernelspec": {
   "display_name": "Python 3 (ipykernel)",
   "language": "python",
   "name": "python3"
  },
  "language_info": {
   "codemirror_mode": {
    "name": "ipython",
    "version": 3
   },
   "file_extension": ".py",
   "mimetype": "text/x-python",
   "name": "python",
   "nbconvert_exporter": "python",
   "pygments_lexer": "ipython3",
   "version": "3.10.7"
  }
 },
 "nbformat": 4,
 "nbformat_minor": 5
}
